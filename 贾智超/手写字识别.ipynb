{
 "cells": [
  {
   "cell_type": "code",
   "execution_count": 13,
   "metadata": {},
   "outputs": [
    {
     "data": {
      "text/plain": [
       "'1.4.0+cpu'"
      ]
     },
     "execution_count": 13,
     "metadata": {},
     "output_type": "execute_result"
    }
   ],
   "source": [
    "import torch\n",
    "import torch.nn as nn\n",
    "import torch.nn.functional as F\n",
    "import torch.optim as optim\n",
    "from torchvision import datasets, transforms\n",
    "torch.__version__"
   ]
  },
  {
   "cell_type": "code",
   "execution_count": 14,
   "metadata": {},
   "outputs": [],
   "source": [
    "BATCH_SIZE=512 #大概需要2G的显存\n",
    "EPOCHS=20 # 总共训练批次\n",
    "DEVICE = torch.device(\"cuda\" if torch.cuda.is_available() else \"cpu\") # 让torch判断是否使用GPU，建议使用GPU环境，因为会快很多"
   ]
  },
  {
   "cell_type": "code",
   "execution_count": 16,
   "metadata": {},
   "outputs": [],
   "source": [
    "train_loader = torch.utils.data.DataLoader(\n",
    "        datasets.MNIST('data', train=True, download=True, \n",
    "                       transform=transforms.Compose([\n",
    "                           transforms.ToTensor(),\n",
    "                           transforms.Normalize((0.1307,), (0.3081,))\n",
    "                       ])),\n",
    "        batch_size=BATCH_SIZE, shuffle=True)"
   ]
  },
  {
   "cell_type": "markdown",
   "metadata": {},
   "source": [
    "测试集"
   ]
  },
  {
   "cell_type": "code",
   "execution_count": 17,
   "metadata": {},
   "outputs": [],
   "source": [
    "test_loader = torch.utils.data.DataLoader(\n",
    "        datasets.MNIST('data', train=False, transform=transforms.Compose([\n",
    "                           transforms.ToTensor(),\n",
    "                           transforms.Normalize((0.1307,), (0.3081,))\n",
    "                       ])),\n",
    "        batch_size=BATCH_SIZE, shuffle=True)"
   ]
  },
  {
   "cell_type": "code",
   "execution_count": 18,
   "metadata": {},
   "outputs": [],
   "source": [
    "class ConvNet(nn.Module):\n",
    "    def __init__(self):\n",
    "        super().__init__()\n",
    "        # batch*1*28*28（每次会送入batch个样本，输入通道数1（黑白图像），图像分辨率是28x28）\n",
    "        # 下面的卷积层Conv2d的第一个参数指输入通道数，第二个参数指输出通道数，第三个参数指卷积核的大小\n",
    "        self.conv1 = nn.Conv2d(1, 10, 5) # 输入通道数1，输出通道数10，核的大小5\n",
    "        self.conv2 = nn.Conv2d(10, 20, 3) # 输入通道数10，输出通道数20，核的大小3\n",
    "        # 下面的全连接层Linear的第一个参数指输入通道数，第二个参数指输出通道数\n",
    "        self.fc1 = nn.Linear(20*10*10, 500) # 输入通道数是2000，输出通道数是500\n",
    "        self.fc2 = nn.Linear(500, 10) # 输入通道数是500，输出通道数是10，即10分类\n",
    "    def forward(self,x):\n",
    "        in_size = x.size(0) # 在本例中in_size=512，也就是BATCH_SIZE的值。输入的x可以看成是512*1*28*28的张量。\n",
    "        out = self.conv1(x) # batch*1*28*28 -> batch*10*24*24（28x28的图像经过一次核为5x5的卷积，输出变为24x24）\n",
    "        out = F.relu(out) # batch*10*24*24（激活函数ReLU不改变形状））\n",
    "        out = F.max_pool2d(out, 2, 2) # batch*10*24*24 -> batch*10*12*12（2*2的池化层会减半）\n",
    "        out = self.conv2(out) # batch*10*12*12 -> batch*20*10*10（再卷积一次，核的大小是3）\n",
    "        out = F.relu(out) # batch*20*10*10\n",
    "        out = out.view(in_size, -1) # batch*20*10*10 -> batch*2000（out的第二维是-1，说明是自动推算，本例中第二维是20*10*10）\n",
    "        out = self.fc1(out) # batch*2000 -> batch*500\n",
    "        out = F.relu(out) # batch*500\n",
    "        out = self.fc2(out) # batch*500 -> batch*10\n",
    "        out = F.log_softmax(out, dim=1) # 计算log(softmax(x))\n",
    "        return out"
   ]
  },
  {
   "cell_type": "code",
   "execution_count": 19,
   "metadata": {},
   "outputs": [],
   "source": [
    "model = ConvNet().to(DEVICE)\n",
    "optimizer = optim.Adam(model.parameters())"
   ]
  },
  {
   "cell_type": "code",
   "execution_count": 20,
   "metadata": {},
   "outputs": [],
   "source": [
    "def train(model, device, train_loader, optimizer, epoch):\n",
    "    model.train()\n",
    "    for batch_idx, (data, target) in enumerate(train_loader):\n",
    "        data, target = data.to(device), target.to(device)\n",
    "        optimizer.zero_grad()\n",
    "        output = model(data)\n",
    "        loss = F.nll_loss(output, target)\n",
    "        loss.backward()\n",
    "        optimizer.step()\n",
    "        if(batch_idx+1)%30 == 0: \n",
    "            print('Train Epoch: {} [{}/{} ({:.0f}%)]\\tLoss: {:.6f}'.format(\n",
    "                epoch, batch_idx * len(data), len(train_loader.dataset),\n",
    "                100. * batch_idx / len(train_loader), loss.item()))"
   ]
  },
  {
   "cell_type": "code",
   "execution_count": 21,
   "metadata": {},
   "outputs": [],
   "source": [
    "def test(model, device, test_loader):\n",
    "    model.eval()\n",
    "    test_loss = 0\n",
    "    correct = 0\n",
    "    with torch.no_grad():\n",
    "        for data, target in test_loader:\n",
    "            data, target = data.to(device), target.to(device)\n",
    "            output = model(data)\n",
    "            test_loss += F.nll_loss(output, target, reduction='sum').item() # 将一批的损失相加\n",
    "            pred = output.max(1, keepdim=True)[1] # 找到概率最大的下标\n",
    "            correct += pred.eq(target.view_as(pred)).sum().item()\n",
    "\n",
    "    test_loss /= len(test_loader.dataset)\n",
    "    print('\\nTest set: Average loss: {:.4f}, Accuracy: {}/{} ({:.0f}%)\\n'.format(\n",
    "        test_loss, correct, len(test_loader.dataset),\n",
    "        100. * correct / len(test_loader.dataset)))"
   ]
  },
  {
   "cell_type": "code",
   "execution_count": 24,
   "metadata": {
    "scrolled": false
   },
   "outputs": [
    {
     "name": "stdout",
     "output_type": "stream",
     "text": [
      "Train Epoch: 1 [14848/60000 (25%)]\tLoss: 0.000699\n",
      "Train Epoch: 1 [30208/60000 (50%)]\tLoss: 0.000265\n",
      "Train Epoch: 1 [45568/60000 (75%)]\tLoss: 0.003464\n",
      "\n",
      "Test set: Average loss: 0.0332, Accuracy: 9923/10000 (99%)\n",
      "\n",
      "Train Epoch: 2 [14848/60000 (25%)]\tLoss: 0.001355\n",
      "Train Epoch: 2 [30208/60000 (50%)]\tLoss: 0.000112\n",
      "Train Epoch: 2 [45568/60000 (75%)]\tLoss: 0.000107\n",
      "\n",
      "Test set: Average loss: 0.0343, Accuracy: 9916/10000 (99%)\n",
      "\n",
      "Train Epoch: 3 [14848/60000 (25%)]\tLoss: 0.000072\n",
      "Train Epoch: 3 [30208/60000 (50%)]\tLoss: 0.000263\n",
      "Train Epoch: 3 [45568/60000 (75%)]\tLoss: 0.010410\n",
      "\n",
      "Test set: Average loss: 0.0446, Accuracy: 9875/10000 (99%)\n",
      "\n",
      "Train Epoch: 4 [14848/60000 (25%)]\tLoss: 0.017379\n",
      "Train Epoch: 4 [30208/60000 (50%)]\tLoss: 0.004887\n",
      "Train Epoch: 4 [45568/60000 (75%)]\tLoss: 0.002423\n",
      "\n",
      "Test set: Average loss: 0.0398, Accuracy: 9894/10000 (99%)\n",
      "\n",
      "Train Epoch: 5 [14848/60000 (25%)]\tLoss: 0.001647\n",
      "Train Epoch: 5 [30208/60000 (50%)]\tLoss: 0.002434\n",
      "Train Epoch: 5 [45568/60000 (75%)]\tLoss: 0.014768\n",
      "\n",
      "Test set: Average loss: 0.0407, Accuracy: 9901/10000 (99%)\n",
      "\n",
      "Train Epoch: 6 [14848/60000 (25%)]\tLoss: 0.007233\n",
      "Train Epoch: 6 [30208/60000 (50%)]\tLoss: 0.001238\n",
      "Train Epoch: 6 [45568/60000 (75%)]\tLoss: 0.024348\n",
      "\n",
      "Test set: Average loss: 0.0333, Accuracy: 9908/10000 (99%)\n",
      "\n",
      "Train Epoch: 7 [14848/60000 (25%)]\tLoss: 0.011310\n",
      "Train Epoch: 7 [30208/60000 (50%)]\tLoss: 0.000703\n",
      "Train Epoch: 7 [45568/60000 (75%)]\tLoss: 0.007575\n",
      "\n",
      "Test set: Average loss: 0.0334, Accuracy: 9910/10000 (99%)\n",
      "\n",
      "Train Epoch: 8 [14848/60000 (25%)]\tLoss: 0.000548\n",
      "Train Epoch: 8 [30208/60000 (50%)]\tLoss: 0.003795\n",
      "Train Epoch: 8 [45568/60000 (75%)]\tLoss: 0.000313\n",
      "\n",
      "Test set: Average loss: 0.0373, Accuracy: 9910/10000 (99%)\n",
      "\n",
      "Train Epoch: 9 [14848/60000 (25%)]\tLoss: 0.001090\n",
      "Train Epoch: 9 [30208/60000 (50%)]\tLoss: 0.003007\n",
      "Train Epoch: 9 [45568/60000 (75%)]\tLoss: 0.000979\n",
      "\n",
      "Test set: Average loss: 0.0399, Accuracy: 9906/10000 (99%)\n",
      "\n",
      "Train Epoch: 10 [14848/60000 (25%)]\tLoss: 0.000355\n",
      "Train Epoch: 10 [30208/60000 (50%)]\tLoss: 0.000045\n",
      "Train Epoch: 10 [45568/60000 (75%)]\tLoss: 0.000122\n",
      "\n",
      "Test set: Average loss: 0.0364, Accuracy: 9915/10000 (99%)\n",
      "\n",
      "Train Epoch: 11 [14848/60000 (25%)]\tLoss: 0.000064\n",
      "Train Epoch: 11 [30208/60000 (50%)]\tLoss: 0.000265\n",
      "Train Epoch: 11 [45568/60000 (75%)]\tLoss: 0.000026\n",
      "\n",
      "Test set: Average loss: 0.0321, Accuracy: 9927/10000 (99%)\n",
      "\n",
      "Train Epoch: 12 [14848/60000 (25%)]\tLoss: 0.000039\n",
      "Train Epoch: 12 [30208/60000 (50%)]\tLoss: 0.000095\n",
      "Train Epoch: 12 [45568/60000 (75%)]\tLoss: 0.000007\n",
      "\n",
      "Test set: Average loss: 0.0328, Accuracy: 9930/10000 (99%)\n",
      "\n",
      "Train Epoch: 13 [14848/60000 (25%)]\tLoss: 0.000010\n",
      "Train Epoch: 13 [30208/60000 (50%)]\tLoss: 0.000100\n",
      "Train Epoch: 13 [45568/60000 (75%)]\tLoss: 0.000028\n",
      "\n",
      "Test set: Average loss: 0.0333, Accuracy: 9929/10000 (99%)\n",
      "\n",
      "Train Epoch: 14 [14848/60000 (25%)]\tLoss: 0.000030\n",
      "Train Epoch: 14 [30208/60000 (50%)]\tLoss: 0.000043\n",
      "Train Epoch: 14 [45568/60000 (75%)]\tLoss: 0.000013\n",
      "\n",
      "Test set: Average loss: 0.0337, Accuracy: 9930/10000 (99%)\n",
      "\n",
      "Train Epoch: 15 [14848/60000 (25%)]\tLoss: 0.000018\n",
      "Train Epoch: 15 [30208/60000 (50%)]\tLoss: 0.000014\n",
      "Train Epoch: 15 [45568/60000 (75%)]\tLoss: 0.000032\n",
      "\n",
      "Test set: Average loss: 0.0338, Accuracy: 9930/10000 (99%)\n",
      "\n",
      "Train Epoch: 16 [14848/60000 (25%)]\tLoss: 0.000017\n",
      "Train Epoch: 16 [30208/60000 (50%)]\tLoss: 0.000020\n",
      "Train Epoch: 16 [45568/60000 (75%)]\tLoss: 0.000024\n",
      "\n",
      "Test set: Average loss: 0.0342, Accuracy: 9930/10000 (99%)\n",
      "\n",
      "Train Epoch: 17 [14848/60000 (25%)]\tLoss: 0.000018\n",
      "Train Epoch: 17 [30208/60000 (50%)]\tLoss: 0.000019\n",
      "Train Epoch: 17 [45568/60000 (75%)]\tLoss: 0.000009\n",
      "\n",
      "Test set: Average loss: 0.0343, Accuracy: 9930/10000 (99%)\n",
      "\n",
      "Train Epoch: 18 [14848/60000 (25%)]\tLoss: 0.000013\n",
      "Train Epoch: 18 [30208/60000 (50%)]\tLoss: 0.000009\n",
      "Train Epoch: 18 [45568/60000 (75%)]\tLoss: 0.000046\n",
      "\n",
      "Test set: Average loss: 0.0348, Accuracy: 9931/10000 (99%)\n",
      "\n",
      "Train Epoch: 19 [14848/60000 (25%)]\tLoss: 0.000013\n",
      "Train Epoch: 19 [30208/60000 (50%)]\tLoss: 0.000021\n",
      "Train Epoch: 19 [45568/60000 (75%)]\tLoss: 0.000013\n",
      "\n",
      "Test set: Average loss: 0.0351, Accuracy: 9931/10000 (99%)\n",
      "\n",
      "Train Epoch: 20 [14848/60000 (25%)]\tLoss: 0.000017\n",
      "Train Epoch: 20 [30208/60000 (50%)]\tLoss: 0.000009\n",
      "Train Epoch: 20 [45568/60000 (75%)]\tLoss: 0.000007\n",
      "\n",
      "Test set: Average loss: 0.0352, Accuracy: 9931/10000 (99%)\n",
      "\n"
     ]
    }
   ],
   "source": [
    "for epoch in range(1, EPOCHS + 1):\n",
    "    train(model, DEVICE, train_loader, optimizer, epoch)\n",
    "    test(model, DEVICE, test_loader)"
   ]
  },
  {
   "cell_type": "code",
   "execution_count": null,
   "metadata": {},
   "outputs": [],
   "source": []
  }
 ],
 "metadata": {
  "kernelspec": {
   "display_name": "Python 3",
   "language": "python",
   "name": "python3"
  },
  "language_info": {
   "codemirror_mode": {
    "name": "ipython",
    "version": 3
   },
   "file_extension": ".py",
   "mimetype": "text/x-python",
   "name": "python",
   "nbconvert_exporter": "python",
   "pygments_lexer": "ipython3",
   "version": "3.7.4"
  }
 },
 "nbformat": 4,
 "nbformat_minor": 2
}
