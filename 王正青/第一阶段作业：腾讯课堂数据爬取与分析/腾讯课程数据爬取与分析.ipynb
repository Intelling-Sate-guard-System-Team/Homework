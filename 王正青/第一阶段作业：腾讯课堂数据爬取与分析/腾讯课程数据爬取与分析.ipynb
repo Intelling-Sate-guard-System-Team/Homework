{
 "cells": [
  {
   "cell_type": "code",
   "execution_count": 54,
   "metadata": {},
   "outputs": [],
   "source": [
    "import bs4\n",
    "import requests\n",
    "import re\n",
    "import os\n",
    "from lxml import etree\n",
    "import csv\n",
    "%matplotlib inline\n",
    "import pandas as pd\n",
    "import numpy as np\n",
    "import matplotlib.pyplot as plt\n",
    "from matplotlib.colors import ListedColormap\n",
    "\n",
    "all_info_list = []    # 所有数据的列表\n",
    "headers = {'user-agent':'Mozilla/5.0 (Windows NT 6.3; WOW64) AppleWebKit/537.36 (KHTML, like Gecko) Chrome/57.0.2987.74 Safari/537.36'}\n",
    "\n",
    "def get_info(url):\n",
    "    session = requests.Session()\n",
    "    response = session.get(url)\n",
    "    if not response:\n",
    "        return\n",
    "\n",
    "    content_html = response.content.decode('utf-8')\n",
    "    bs_content = bs4.BeautifulSoup(content_html, \"html.parser\")\n",
    "    # 找出所需数据的区域\n",
    "    results_li = bs_content.find_all(name='li', attrs={'class': re.compile(r'^course')})\n",
    "    results_div = bs_content.find_all(name='div', attrs={'class': 'item-line item-line--bottom'})\n",
    "    results = zip(results_li, results_div)\n",
    "    \n",
    "    # 解析出想要的数据元素\n",
    "    for result in results:\n",
    "        item = {}\n",
    "        course = result[0].h4.a['title']\n",
    "        price = result[1].find(name='span', attrs={'class':re.compile(r'item-price')}).text\n",
    "        users = result[1].find(name='span', attrs={'class':'line-cell item-user custom-string'}).text\n",
    "        count = result[0].find(name='div', attrs={'class':'item-line item-line--middle'}).span.text\n",
    "        agency = result[0].find(name='div', attrs={'class':'item-line item-line--middle'}).a['title']\n",
    "        \n",
    "        if price == '免费':\n",
    "            price='0'\n",
    "            \n",
    "        price = float(re.findall(r\"\\d+\\.?\\d*\" ,price)[0])\n",
    "        users = int(re.findall(r\"\\d+\\.?\\d*\" ,users)[0])\n",
    "        \n",
    "        item = [course, price, users, count, agency]\n",
    "        all_info_list.append(item)\n",
    "            "
   ]
  },
  {
   "cell_type": "code",
   "execution_count": 39,
   "metadata": {},
   "outputs": [],
   "source": [
    "urls = ['https://ke.qq.com/course/list?mt=1001&page={}'.format(i) for i in range(1,34)]\n",
    "for url in urls:\n",
    "    get_info(url)\n",
    "    \n",
    "# 将爬取的数据写入csv中\n",
    "with open('Data.csv', 'w', newline='') as f:\n",
    "    csv_writer = csv.writer(f)\n",
    "    csv_writer.writerow(['课程名称', '价格', '报名人数', '课程进度', '课程机构'])\n",
    "    for item in all_info_list:\n",
    "        csv_writer.writerow(item)\n",
    "    "
   ]
  },
  {
   "cell_type": "markdown",
   "metadata": {},
   "source": [
    "\n"
   ]
  },
  {
   "cell_type": "code",
   "execution_count": 62,
   "metadata": {},
   "outputs": [
    {
     "name": "stdout",
     "output_type": "stream",
     "text": [
      "(792, 5)\n",
      "                课程数量\n",
      "课程机构                \n",
      "IT老兵               1\n",
      "SPOTO思博网络         23\n",
      "TWeb Conf          1\n",
      "hcoder 刘海君         1\n",
      "【智能社】在线课堂          3\n",
      "...              ...\n",
      "鲁班学院              22\n",
      "鸟哥教育               1\n",
      "黄埔课堂               2\n",
      "黄菊华                5\n",
      "鼎智传承YESLAB网络培训     1\n",
      "\n",
      "[120 rows x 1 columns]\n"
     ]
    }
   ],
   "source": [
    "# 分析数据\n",
    "fd = open('Data.csv', 'r')\n",
    "alg = pd.read_csv(fd, header=0)\n",
    "print(alg.shape)\n",
    "\n",
    "gr_agency = alg.groupby(['课程机构'])\n",
    "\n",
    "def func_handle(g, g_list):\n",
    "    return pd.Series(data=g.count(), index=g_list)\n",
    "\n",
    "# 统计每个教育机构开设的课程数量\n",
    "re = gr_agency.apply(func_handle, g_list=['课程名称'])\n",
    "re = re.rename(columns={'课程名称':'课程数量'})\n",
    "print(re)\n"
   ]
  },
  {
   "cell_type": "code",
   "execution_count": null,
   "metadata": {},
   "outputs": [],
   "source": []
  },
  {
   "cell_type": "code",
   "execution_count": null,
   "metadata": {},
   "outputs": [],
   "source": []
  }
 ],
 "metadata": {
  "kernelspec": {
   "display_name": "Python 3",
   "language": "python",
   "name": "python3"
  },
  "language_info": {
   "codemirror_mode": {
    "name": "ipython",
    "version": 3
   },
   "file_extension": ".py",
   "mimetype": "text/x-python",
   "name": "python",
   "nbconvert_exporter": "python",
   "pygments_lexer": "ipython3",
   "version": "3.7.4"
  },
  "toc": {
   "base_numbering": 1,
   "nav_menu": {},
   "number_sections": true,
   "sideBar": true,
   "skip_h1_title": false,
   "title_cell": "Table of Contents",
   "title_sidebar": "Contents",
   "toc_cell": false,
   "toc_position": {},
   "toc_section_display": true,
   "toc_window_display": false
  }
 },
 "nbformat": 4,
 "nbformat_minor": 2
}
