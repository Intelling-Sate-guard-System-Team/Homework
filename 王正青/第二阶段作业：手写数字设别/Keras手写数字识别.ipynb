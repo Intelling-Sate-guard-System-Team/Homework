{
 "cells": [
  {
   "cell_type": "code",
   "execution_count": 14,
   "metadata": {},
   "outputs": [],
   "source": [
    "from keras.models import Sequential\n",
    "from keras.layers import Dense, Dropout, Activation\n",
    "from keras.optimizers import SGD\n",
    "from keras.datasets import mnist\n",
    "import numpy as np"
   ]
  },
  {
   "cell_type": "markdown",
   "metadata": {},
   "source": [
    "构建模型网络结构："
   ]
  },
  {
   "cell_type": "code",
   "execution_count": 15,
   "metadata": {
    "scrolled": true
   },
   "outputs": [],
   "source": [
    "model = Sequential()\n",
    "model.add(Dense(500,input_shape=(784,))) #输入层， 28*28=784\n",
    "model.add(Activation('tanh'))\n",
    "model.add(Dropout(0.5)) #50% dropout\n",
    "\n",
    "model.add(Dense(500)) #隐藏层， 500\n",
    "model.add(Activation('tanh'))\n",
    "model.add(Dropout(0.5)) #50% dropout\n",
    "\n",
    "model.add(Dense(10)) #输出结果， 10\n",
    "model.add(Activation('softmax'))"
   ]
  },
  {
   "cell_type": "markdown",
   "metadata": {},
   "source": [
    "使用优化器sgd来编译模型，用来指定学习效率等参数。编译时指定loss函数，这里使用交叉熵函数作为loss函数。"
   ]
  },
  {
   "cell_type": "code",
   "execution_count": 22,
   "metadata": {},
   "outputs": [],
   "source": [
    "sgd = SGD(lr=0.01, decay=1e-6, momentum=0.9, nesterov=True) #设定学习率等参数\n",
    "model.compile(loss = 'categorical_crossentropy', optimizer=sgd, metrics=['mse']) #使用交叉熵作为loss"
   ]
  },
  {
   "cell_type": "markdown",
   "metadata": {},
   "source": [
    "读取数据集作为训练集和测试集："
   ]
  },
  {
   "cell_type": "code",
   "execution_count": 21,
   "metadata": {},
   "outputs": [
    {
     "name": "stdout",
     "output_type": "stream",
     "text": [
      "(60000, 784)\n",
      "(60000, 10)\n"
     ]
    }
   ],
   "source": [
    "(x_train,y_train),(x_test,y_test) = mnist.load_data() #使用mnist读取数据（第一次需要下载）\n",
    "\n",
    "# 数据集处理\n",
    "X_train = x_train.reshape(x_train.shape[0], x_train.shape[1]*x_train.shape[2])\n",
    "X_test = x_test.reshape(x_test.shape[0],x_test.shape[1]*x_test.shape[2])\n",
    "\n",
    "Y_train = (np.arange(10) == y_train[:,None]).astype(int) #将index转换成一个one_hot矩阵\n",
    "Y_test = (np.arange(10) == y_test[:,None]).astype(int)\n",
    "print(X_train.shape)\n",
    "print(Y_train.shape)"
   ]
  },
  {
   "cell_type": "code",
   "execution_count": 23,
   "metadata": {},
   "outputs": [
    {
     "name": "stdout",
     "output_type": "stream",
     "text": [
      "Train on 42000 samples, validate on 18000 samples\n",
      "Epoch 1/100\n",
      "WARNING:tensorflow:From D:\\Anaconda3\\lib\\site-packages\\keras\\backend\\tensorflow_backend.py:174: The name tf.get_default_session is deprecated. Please use tf.compat.v1.get_default_session instead.\n",
      "\n",
      "WARNING:tensorflow:From D:\\Anaconda3\\lib\\site-packages\\keras\\backend\\tensorflow_backend.py:181: The name tf.ConfigProto is deprecated. Please use tf.compat.v1.ConfigProto instead.\n",
      "\n",
      "WARNING:tensorflow:From D:\\Anaconda3\\lib\\site-packages\\keras\\backend\\tensorflow_backend.py:190: The name tf.global_variables is deprecated. Please use tf.compat.v1.global_variables instead.\n",
      "\n",
      "WARNING:tensorflow:From D:\\Anaconda3\\lib\\site-packages\\keras\\backend\\tensorflow_backend.py:199: The name tf.is_variable_initialized is deprecated. Please use tf.compat.v1.is_variable_initialized instead.\n",
      "\n",
      "WARNING:tensorflow:From D:\\Anaconda3\\lib\\site-packages\\keras\\backend\\tensorflow_backend.py:206: The name tf.variables_initializer is deprecated. Please use tf.compat.v1.variables_initializer instead.\n",
      "\n",
      "42000/42000 [==============================] - 3s 64us/step - loss: 1.2043 - mean_squared_error: 0.0539 - val_loss: 0.5365 - val_mean_squared_error: 0.0247\n",
      "Epoch 2/100\n",
      "42000/42000 [==============================] - 2s 43us/step - loss: 0.9181 - mean_squared_error: 0.0426 - val_loss: 0.4690 - val_mean_squared_error: 0.0216\n",
      "Epoch 3/100\n",
      "42000/42000 [==============================] - 2s 45us/step - loss: 0.8401 - mean_squared_error: 0.0393 - val_loss: 0.4820 - val_mean_squared_error: 0.0221\n",
      "Epoch 4/100\n",
      "42000/42000 [==============================] - 2s 43us/step - loss: 0.7808 - mean_squared_error: 0.0365 - val_loss: 0.4306 - val_mean_squared_error: 0.0195\n",
      "Epoch 5/100\n",
      "42000/42000 [==============================] - 2s 45us/step - loss: 0.7615 - mean_squared_error: 0.0359 - val_loss: 0.4189 - val_mean_squared_error: 0.0191\n",
      "Epoch 6/100\n",
      "42000/42000 [==============================] - 2s 46us/step - loss: 0.7238 - mean_squared_error: 0.0336 - val_loss: 0.3993 - val_mean_squared_error: 0.0181\n",
      "Epoch 7/100\n",
      "42000/42000 [==============================] - 2s 44us/step - loss: 0.7039 - mean_squared_error: 0.0331 - val_loss: 0.4115 - val_mean_squared_error: 0.0187\n",
      "Epoch 8/100\n",
      "42000/42000 [==============================] - 2s 43us/step - loss: 0.6857 - mean_squared_error: 0.0321 - val_loss: 0.3843 - val_mean_squared_error: 0.0174\n",
      "Epoch 9/100\n",
      "42000/42000 [==============================] - 2s 45us/step - loss: 0.6573 - mean_squared_error: 0.0306 - val_loss: 0.3768 - val_mean_squared_error: 0.0169\n",
      "Epoch 10/100\n",
      "42000/42000 [==============================] - 2s 47us/step - loss: 0.6620 - mean_squared_error: 0.0310 - val_loss: 0.3785 - val_mean_squared_error: 0.0171\n",
      "Epoch 11/100\n",
      "42000/42000 [==============================] - 2s 45us/step - loss: 0.6338 - mean_squared_error: 0.0295 - val_loss: 0.3640 - val_mean_squared_error: 0.0165\n",
      "Epoch 12/100\n",
      "42000/42000 [==============================] - 2s 45us/step - loss: 0.6201 - mean_squared_error: 0.0290 - val_loss: 0.3696 - val_mean_squared_error: 0.0170\n",
      "Epoch 13/100\n",
      "42000/42000 [==============================] - 2s 46us/step - loss: 0.6220 - mean_squared_error: 0.0290 - val_loss: 0.3556 - val_mean_squared_error: 0.0161\n",
      "Epoch 14/100\n",
      "42000/42000 [==============================] - 2s 45us/step - loss: 0.6223 - mean_squared_error: 0.0292 - val_loss: 0.3516 - val_mean_squared_error: 0.0157\n",
      "Epoch 15/100\n",
      "42000/42000 [==============================] - 2s 44us/step - loss: 0.6012 - mean_squared_error: 0.0281 - val_loss: 0.3365 - val_mean_squared_error: 0.0152\n",
      "Epoch 16/100\n",
      "42000/42000 [==============================] - 2s 44us/step - loss: 0.5887 - mean_squared_error: 0.0276 - val_loss: 0.3366 - val_mean_squared_error: 0.0153\n",
      "Epoch 17/100\n",
      "42000/42000 [==============================] - 2s 42us/step - loss: 0.5699 - mean_squared_error: 0.0265 - val_loss: 0.3081 - val_mean_squared_error: 0.0140\n",
      "Epoch 18/100\n",
      "42000/42000 [==============================] - 2s 43us/step - loss: 0.5586 - mean_squared_error: 0.0261 - val_loss: 0.3249 - val_mean_squared_error: 0.0148\n",
      "Epoch 19/100\n",
      "42000/42000 [==============================] - 2s 45us/step - loss: 0.5662 - mean_squared_error: 0.0264 - val_loss: 0.3209 - val_mean_squared_error: 0.0146\n",
      "Epoch 20/100\n",
      "42000/42000 [==============================] - 2s 42us/step - loss: 0.5459 - mean_squared_error: 0.0254 - val_loss: 0.3154 - val_mean_squared_error: 0.0144\n",
      "Epoch 21/100\n",
      "42000/42000 [==============================] - 2s 47us/step - loss: 0.5483 - mean_squared_error: 0.0258 - val_loss: 0.3130 - val_mean_squared_error: 0.0143\n",
      "Epoch 22/100\n",
      "42000/42000 [==============================] - 2s 45us/step - loss: 0.5344 - mean_squared_error: 0.0249 - val_loss: 0.3105 - val_mean_squared_error: 0.0141\n",
      "Epoch 23/100\n",
      "42000/42000 [==============================] - 2s 44us/step - loss: 0.5188 - mean_squared_error: 0.0241 - val_loss: 0.3003 - val_mean_squared_error: 0.0138\n",
      "Epoch 24/100\n",
      "42000/42000 [==============================] - 2s 48us/step - loss: 0.5182 - mean_squared_error: 0.0241 - val_loss: 0.2855 - val_mean_squared_error: 0.0129\n",
      "Epoch 25/100\n",
      "42000/42000 [==============================] - 2s 46us/step - loss: 0.5021 - mean_squared_error: 0.0233 - val_loss: 0.2986 - val_mean_squared_error: 0.0136\n",
      "Epoch 26/100\n",
      "42000/42000 [==============================] - 2s 44us/step - loss: 0.5031 - mean_squared_error: 0.0233 - val_loss: 0.2890 - val_mean_squared_error: 0.0132\n",
      "Epoch 27/100\n",
      "42000/42000 [==============================] - 2s 44us/step - loss: 0.5047 - mean_squared_error: 0.0235 - val_loss: 0.2929 - val_mean_squared_error: 0.0133\n",
      "Epoch 28/100\n",
      "42000/42000 [==============================] - 2s 44us/step - loss: 0.4982 - mean_squared_error: 0.0233 - val_loss: 0.2833 - val_mean_squared_error: 0.0129\n",
      "Epoch 29/100\n",
      "42000/42000 [==============================] - 2s 43us/step - loss: 0.5042 - mean_squared_error: 0.0234 - val_loss: 0.2920 - val_mean_squared_error: 0.0134\n",
      "Epoch 30/100\n",
      "42000/42000 [==============================] - 2s 45us/step - loss: 0.4908 - mean_squared_error: 0.0230 - val_loss: 0.2851 - val_mean_squared_error: 0.0132\n",
      "Epoch 31/100\n",
      "42000/42000 [==============================] - 2s 47us/step - loss: 0.4808 - mean_squared_error: 0.0224 - val_loss: 0.2835 - val_mean_squared_error: 0.0130\n",
      "Epoch 32/100\n",
      "42000/42000 [==============================] - 2s 45us/step - loss: 0.4672 - mean_squared_error: 0.0218 - val_loss: 0.2761 - val_mean_squared_error: 0.0127\n",
      "Epoch 33/100\n",
      "42000/42000 [==============================] - 2s 44us/step - loss: 0.4734 - mean_squared_error: 0.0222 - val_loss: 0.2815 - val_mean_squared_error: 0.0132\n",
      "Epoch 34/100\n",
      "42000/42000 [==============================] - 2s 43us/step - loss: 0.4615 - mean_squared_error: 0.0216 - val_loss: 0.2740 - val_mean_squared_error: 0.0128\n",
      "Epoch 35/100\n",
      "42000/42000 [==============================] - 2s 44us/step - loss: 0.4499 - mean_squared_error: 0.0210 - val_loss: 0.2597 - val_mean_squared_error: 0.0119\n",
      "Epoch 36/100\n",
      "42000/42000 [==============================] - 2s 44us/step - loss: 0.4423 - mean_squared_error: 0.0206 - val_loss: 0.2674 - val_mean_squared_error: 0.0124\n",
      "Epoch 37/100\n",
      "42000/42000 [==============================] - 2s 46us/step - loss: 0.4467 - mean_squared_error: 0.0208 - val_loss: 0.2655 - val_mean_squared_error: 0.0124\n",
      "Epoch 38/100\n",
      "42000/42000 [==============================] - 2s 44us/step - loss: 0.4353 - mean_squared_error: 0.0202 - val_loss: 0.2562 - val_mean_squared_error: 0.0118\n",
      "Epoch 39/100\n",
      "42000/42000 [==============================] - 2s 43us/step - loss: 0.4293 - mean_squared_error: 0.0198 - val_loss: 0.2557 - val_mean_squared_error: 0.0119\n",
      "Epoch 40/100\n",
      "42000/42000 [==============================] - 2s 44us/step - loss: 0.4370 - mean_squared_error: 0.0204 - val_loss: 0.2613 - val_mean_squared_error: 0.0121\n",
      "Epoch 41/100\n",
      "42000/42000 [==============================] - 2s 51us/step - loss: 0.4423 - mean_squared_error: 0.0207 - val_loss: 0.2515 - val_mean_squared_error: 0.0117\n",
      "Epoch 42/100\n",
      "42000/42000 [==============================] - 2s 57us/step - loss: 0.4408 - mean_squared_error: 0.0207 - val_loss: 0.2555 - val_mean_squared_error: 0.0119\n",
      "Epoch 43/100\n",
      "42000/42000 [==============================] - 3s 60us/step - loss: 0.4544 - mean_squared_error: 0.0212 - val_loss: 0.2550 - val_mean_squared_error: 0.0118\n",
      "Epoch 44/100\n",
      "42000/42000 [==============================] - 2s 57us/step - loss: 0.4459 - mean_squared_error: 0.0211 - val_loss: 0.2524 - val_mean_squared_error: 0.0117\n",
      "Epoch 45/100\n",
      "42000/42000 [==============================] - 2s 56us/step - loss: 0.4322 - mean_squared_error: 0.0202 - val_loss: 0.2487 - val_mean_squared_error: 0.0116\n",
      "Epoch 46/100\n",
      "42000/42000 [==============================] - 2s 58us/step - loss: 0.4355 - mean_squared_error: 0.0204 - val_loss: 0.2476 - val_mean_squared_error: 0.0114\n",
      "Epoch 47/100\n",
      "42000/42000 [==============================] - 2s 54us/step - loss: 0.4155 - mean_squared_error: 0.0193 - val_loss: 0.2427 - val_mean_squared_error: 0.0112\n",
      "Epoch 48/100\n",
      "42000/42000 [==============================] - 3s 76us/step - loss: 0.4197 - mean_squared_error: 0.0196 - val_loss: 0.2429 - val_mean_squared_error: 0.0113\n",
      "Epoch 49/100\n",
      "42000/42000 [==============================] - 2s 51us/step - loss: 0.4275 - mean_squared_error: 0.0200 - val_loss: 0.2476 - val_mean_squared_error: 0.0115\n",
      "Epoch 50/100\n",
      "42000/42000 [==============================] - 2s 52us/step - loss: 0.4219 - mean_squared_error: 0.0198 - val_loss: 0.2478 - val_mean_squared_error: 0.0115\n",
      "Epoch 51/100\n",
      "42000/42000 [==============================] - 2s 56us/step - loss: 0.4251 - mean_squared_error: 0.0199 - val_loss: 0.2465 - val_mean_squared_error: 0.0114\n",
      "Epoch 52/100\n",
      "42000/42000 [==============================] - 3s 62us/step - loss: 0.4193 - mean_squared_error: 0.0196 - val_loss: 0.2484 - val_mean_squared_error: 0.0114\n",
      "Epoch 53/100\n",
      "42000/42000 [==============================] - 3s 67us/step - loss: 0.4133 - mean_squared_error: 0.0192 - val_loss: 0.2427 - val_mean_squared_error: 0.0113\n",
      "Epoch 54/100\n",
      "42000/42000 [==============================] - 3s 60us/step - loss: 0.4147 - mean_squared_error: 0.0195 - val_loss: 0.2424 - val_mean_squared_error: 0.0114\n",
      "Epoch 55/100\n",
      "42000/42000 [==============================] - 2s 48us/step - loss: 0.4089 - mean_squared_error: 0.0192 - val_loss: 0.2421 - val_mean_squared_error: 0.0113\n",
      "Epoch 56/100\n",
      "42000/42000 [==============================] - 2s 46us/step - loss: 0.4115 - mean_squared_error: 0.0192 - val_loss: 0.2450 - val_mean_squared_error: 0.0115\n",
      "Epoch 57/100\n",
      "42000/42000 [==============================] - 2s 45us/step - loss: 0.4153 - mean_squared_error: 0.0194 - val_loss: 0.2359 - val_mean_squared_error: 0.0108\n",
      "Epoch 58/100\n",
      "42000/42000 [==============================] - 2s 41us/step - loss: 0.4109 - mean_squared_error: 0.0190 - val_loss: 0.2333 - val_mean_squared_error: 0.0109\n",
      "Epoch 59/100\n",
      "42000/42000 [==============================] - 2s 57us/step - loss: 0.3959 - mean_squared_error: 0.0184 - val_loss: 0.2355 - val_mean_squared_error: 0.0110\n",
      "Epoch 60/100\n",
      "42000/42000 [==============================] - 3s 73us/step - loss: 0.3933 - mean_squared_error: 0.0182 - val_loss: 0.2331 - val_mean_squared_error: 0.0109\n",
      "Epoch 61/100\n",
      "42000/42000 [==============================] - 2s 50us/step - loss: 0.3993 - mean_squared_error: 0.0185 - val_loss: 0.2262 - val_mean_squared_error: 0.0105\n",
      "Epoch 62/100\n",
      "42000/42000 [==============================] - 2s 48us/step - loss: 0.3821 - mean_squared_error: 0.0179 - val_loss: 0.2362 - val_mean_squared_error: 0.0110\n",
      "Epoch 63/100\n",
      "42000/42000 [==============================] - 2s 44us/step - loss: 0.3839 - mean_squared_error: 0.0179 - val_loss: 0.2315 - val_mean_squared_error: 0.0109\n",
      "Epoch 64/100\n",
      "42000/42000 [==============================] - 2s 43us/step - loss: 0.3817 - mean_squared_error: 0.0178 - val_loss: 0.2276 - val_mean_squared_error: 0.0107\n",
      "Epoch 65/100\n",
      "42000/42000 [==============================] - 3s 75us/step - loss: 0.3772 - mean_squared_error: 0.0175 - val_loss: 0.2206 - val_mean_squared_error: 0.0103\n",
      "Epoch 66/100\n",
      "42000/42000 [==============================] - 2s 58us/step - loss: 0.3858 - mean_squared_error: 0.0179 - val_loss: 0.2200 - val_mean_squared_error: 0.0102\n",
      "Epoch 67/100\n",
      "42000/42000 [==============================] - 3s 68us/step - loss: 0.3804 - mean_squared_error: 0.0176 - val_loss: 0.2218 - val_mean_squared_error: 0.0103\n",
      "Epoch 68/100\n",
      "42000/42000 [==============================] - 3s 67us/step - loss: 0.3772 - mean_squared_error: 0.0176 - val_loss: 0.2253 - val_mean_squared_error: 0.0105\n",
      "Epoch 69/100\n",
      "42000/42000 [==============================] - 2s 50us/step - loss: 0.3775 - mean_squared_error: 0.0176 - val_loss: 0.2213 - val_mean_squared_error: 0.0104\n",
      "Epoch 70/100\n",
      "42000/42000 [==============================] - 2s 47us/step - loss: 0.3656 - mean_squared_error: 0.0171 - val_loss: 0.2106 - val_mean_squared_error: 0.0098\n",
      "Epoch 71/100\n",
      "42000/42000 [==============================] - 2s 45us/step - loss: 0.3629 - mean_squared_error: 0.0171 - val_loss: 0.2192 - val_mean_squared_error: 0.0101\n",
      "Epoch 72/100\n",
      "42000/42000 [==============================] - 2s 47us/step - loss: 0.3667 - mean_squared_error: 0.0172 - val_loss: 0.2085 - val_mean_squared_error: 0.0095\n",
      "Epoch 73/100\n",
      "42000/42000 [==============================] - 2s 45us/step - loss: 0.3637 - mean_squared_error: 0.0170 - val_loss: 0.2121 - val_mean_squared_error: 0.0099\n",
      "Epoch 74/100\n",
      "42000/42000 [==============================] - 2s 45us/step - loss: 0.3743 - mean_squared_error: 0.0177 - val_loss: 0.2161 - val_mean_squared_error: 0.0101\n",
      "Epoch 75/100\n",
      "42000/42000 [==============================] - 2s 49us/step - loss: 0.3711 - mean_squared_error: 0.0174 - val_loss: 0.2130 - val_mean_squared_error: 0.0099\n",
      "Epoch 76/100\n",
      "42000/42000 [==============================] - 2s 50us/step - loss: 0.3717 - mean_squared_error: 0.0174 - val_loss: 0.2131 - val_mean_squared_error: 0.0100\n",
      "Epoch 77/100\n",
      "42000/42000 [==============================] - 2s 44us/step - loss: 0.3548 - mean_squared_error: 0.0166 - val_loss: 0.2121 - val_mean_squared_error: 0.0099\n",
      "Epoch 78/100\n",
      "42000/42000 [==============================] - 2s 46us/step - loss: 0.3571 - mean_squared_error: 0.0167 - val_loss: 0.2123 - val_mean_squared_error: 0.0099\n",
      "Epoch 79/100\n",
      "42000/42000 [==============================] - 2s 46us/step - loss: 0.3542 - mean_squared_error: 0.0166 - val_loss: 0.2075 - val_mean_squared_error: 0.0097\n",
      "Epoch 80/100\n",
      "42000/42000 [==============================] - 2s 47us/step - loss: 0.3624 - mean_squared_error: 0.0170 - val_loss: 0.2020 - val_mean_squared_error: 0.0095\n",
      "Epoch 81/100\n",
      "42000/42000 [==============================] - 2s 47us/step - loss: 0.3649 - mean_squared_error: 0.0171 - val_loss: 0.2092 - val_mean_squared_error: 0.0098\n",
      "Epoch 82/100\n",
      "42000/42000 [==============================] - 2s 47us/step - loss: 0.3644 - mean_squared_error: 0.0171 - val_loss: 0.2085 - val_mean_squared_error: 0.0098\n",
      "Epoch 83/100\n",
      "42000/42000 [==============================] - 2s 54us/step - loss: 0.3683 - mean_squared_error: 0.0174 - val_loss: 0.2087 - val_mean_squared_error: 0.0098\n",
      "Epoch 84/100\n",
      "42000/42000 [==============================] - 2s 48us/step - loss: 0.3682 - mean_squared_error: 0.0173 - val_loss: 0.2056 - val_mean_squared_error: 0.0096\n",
      "Epoch 85/100\n",
      "42000/42000 [==============================] - 2s 45us/step - loss: 0.3692 - mean_squared_error: 0.0172 - val_loss: 0.2059 - val_mean_squared_error: 0.0095\n",
      "Epoch 86/100\n",
      "42000/42000 [==============================] - 2s 46us/step - loss: 0.3645 - mean_squared_error: 0.0170 - val_loss: 0.2043 - val_mean_squared_error: 0.0095\n",
      "Epoch 87/100\n",
      "42000/42000 [==============================] - 2s 48us/step - loss: 0.3600 - mean_squared_error: 0.0169 - val_loss: 0.2075 - val_mean_squared_error: 0.0098\n",
      "Epoch 88/100\n",
      "42000/42000 [==============================] - 2s 47us/step - loss: 0.3632 - mean_squared_error: 0.0170 - val_loss: 0.2145 - val_mean_squared_error: 0.0099\n",
      "Epoch 89/100\n",
      "42000/42000 [==============================] - 2s 46us/step - loss: 0.3717 - mean_squared_error: 0.0173 - val_loss: 0.2121 - val_mean_squared_error: 0.0097\n",
      "Epoch 90/100\n",
      "42000/42000 [==============================] - 2s 46us/step - loss: 0.3718 - mean_squared_error: 0.0172 - val_loss: 0.2137 - val_mean_squared_error: 0.0098\n",
      "Epoch 91/100\n"
     ]
    },
    {
     "name": "stdout",
     "output_type": "stream",
     "text": [
      "42000/42000 [==============================] - 2s 50us/step - loss: 0.3683 - mean_squared_error: 0.0172 - val_loss: 0.2120 - val_mean_squared_error: 0.0098\n",
      "Epoch 92/100\n",
      "42000/42000 [==============================] - 2s 45us/step - loss: 0.3614 - mean_squared_error: 0.0169 - val_loss: 0.2129 - val_mean_squared_error: 0.0099\n",
      "Epoch 93/100\n",
      "42000/42000 [==============================] - 2s 46us/step - loss: 0.3598 - mean_squared_error: 0.0167 - val_loss: 0.2123 - val_mean_squared_error: 0.0098\n",
      "Epoch 94/100\n",
      "42000/42000 [==============================] - 2s 44us/step - loss: 0.3567 - mean_squared_error: 0.0166 - val_loss: 0.2084 - val_mean_squared_error: 0.0097\n",
      "Epoch 95/100\n",
      "42000/42000 [==============================] - 2s 46us/step - loss: 0.3488 - mean_squared_error: 0.0162 - val_loss: 0.2140 - val_mean_squared_error: 0.0099\n",
      "Epoch 96/100\n",
      "42000/42000 [==============================] - 2s 46us/step - loss: 0.3516 - mean_squared_error: 0.0164 - val_loss: 0.2062 - val_mean_squared_error: 0.0095\n",
      "Epoch 97/100\n",
      "42000/42000 [==============================] - 2s 45us/step - loss: 0.3564 - mean_squared_error: 0.0166 - val_loss: 0.2059 - val_mean_squared_error: 0.0095\n",
      "Epoch 98/100\n",
      "42000/42000 [==============================] - 2s 53us/step - loss: 0.3485 - mean_squared_error: 0.0163 - val_loss: 0.2034 - val_mean_squared_error: 0.0095\n",
      "Epoch 99/100\n",
      "42000/42000 [==============================] - 2s 47us/step - loss: 0.3456 - mean_squared_error: 0.0162 - val_loss: 0.2010 - val_mean_squared_error: 0.0094\n",
      "Epoch 100/100\n",
      "42000/42000 [==============================] - 2s 45us/step - loss: 0.3499 - mean_squared_error: 0.0164 - val_loss: 0.2003 - val_mean_squared_error: 0.0093\n"
     ]
    },
    {
     "data": {
      "text/plain": [
       "<keras.callbacks.History at 0x234ef952188>"
      ]
     },
     "execution_count": 23,
     "metadata": {},
     "output_type": "execute_result"
    }
   ],
   "source": [
    "# 设置模型相关参数\n",
    "model.fit(X_train, Y_train, batch_size=200, epochs=100, shuffle=True, verbose=1, validation_split=0.3)"
   ]
  },
  {
   "cell_type": "code",
   "execution_count": 25,
   "metadata": {},
   "outputs": [
    {
     "name": "stdout",
     "output_type": "stream",
     "text": [
      "test set\n",
      "10000/10000 [==============================] - 0s 14us/step\n",
      "\n",
      "[0.18929599763825536, 0.00881334531091852]\n",
      "10000/10000 [==============================] - 0s 21us/step\n",
      "\n",
      "The accuracy of the model is 0.942800\n"
     ]
    }
   ],
   "source": [
    "print(\"test set\\n\")\n",
    "scores = model.evaluate(X_test,Y_test,batch_size=200,verbose=1)\n",
    "print(scores)\n",
    "result = model.predict(X_test,batch_size=200,verbose=1)\n",
    "\n",
    "result_max = np.argmax(result, axis = 1)\n",
    "test_max = np.argmax(Y_test, axis = 1)\n",
    "\n",
    "result_bool = np.equal(result_max, test_max)\n",
    "true_num = np.sum(result_bool)\n",
    "print(\"\")\n",
    "print(\"The accuracy of the model is %f\" % (true_num/len(result_bool)))"
   ]
  },
  {
   "cell_type": "code",
   "execution_count": null,
   "metadata": {
    "cell_style": "split"
   },
   "outputs": [],
   "source": []
  }
 ],
 "metadata": {
  "kernelspec": {
   "display_name": "Python 3",
   "language": "python",
   "name": "python3"
  },
  "language_info": {
   "codemirror_mode": {
    "name": "ipython",
    "version": 3
   },
   "file_extension": ".py",
   "mimetype": "text/x-python",
   "name": "python",
   "nbconvert_exporter": "python",
   "pygments_lexer": "ipython3",
   "version": "3.7.4"
  },
  "toc": {
   "base_numbering": 1,
   "nav_menu": {},
   "number_sections": true,
   "sideBar": true,
   "skip_h1_title": false,
   "title_cell": "Table of Contents",
   "title_sidebar": "Contents",
   "toc_cell": false,
   "toc_position": {},
   "toc_section_display": true,
   "toc_window_display": false
  }
 },
 "nbformat": 4,
 "nbformat_minor": 2
}
